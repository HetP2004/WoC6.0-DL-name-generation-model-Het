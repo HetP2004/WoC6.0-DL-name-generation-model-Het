{
 "cells": [
  {
   "cell_type": "code",
   "execution_count": 66,
   "id": "5638b1db",
   "metadata": {},
   "outputs": [],
   "source": [
    "'''importing the numpy module and random module'''\n",
    "\n",
    "import numpy as np\n",
    "import random"
   ]
  },
  {
   "cell_type": "code",
   "execution_count": 67,
   "id": "8452df7d",
   "metadata": {},
   "outputs": [
    {
     "name": "stdout",
     "output_type": "stream",
     "text": [
      "array x: [0. 0. 0. 0. 0. 0.]\n",
      "array y: [1. 1. 1. 1. 1. 1.]\n"
     ]
    }
   ],
   "source": [
    "'''np.zeros(size_of_array) initilaizes an array of size size_of_array with values of all elements of array=0\n",
    "and np.ones(size_of_array) initializes an array of size size_of_array with values of all elements of array=1'''\n",
    "\n",
    "x=np.zeros(6)\n",
    "y=np.ones(6)\n",
    "print(\"array x:\",x)\n",
    "print(\"array y:\",y)"
   ]
  },
  {
   "cell_type": "code",
   "execution_count": 68,
   "id": "bf35c589",
   "metadata": {},
   "outputs": [
    {
     "name": "stdout",
     "output_type": "stream",
     "text": [
      "array x: [79. 35. 89. 72. 92.  4.]\n"
     ]
    }
   ],
   "source": [
    "'''random.randint(start,stop) is a function which will return a random number between start and \n",
    "stop,including both. Here we are using the function to give values to the elements of an array x randomly.'''\n",
    "\n",
    "for i in range(x.size):\n",
    "    x[i]=random.randint(0,100)\n",
    "print(\"array x:\",x)"
   ]
  },
  {
   "cell_type": "code",
   "execution_count": 69,
   "id": "6092815e",
   "metadata": {},
   "outputs": [
    {
     "name": "stdout",
     "output_type": "stream",
     "text": [
      "array x: \n",
      " [0.7141191  0.26570303 0.13355497 0.41168068 0.05936861 0.45872339] \n",
      "\n",
      "array y: \n",
      " [2.02860824 0.75115576 0.35436286 2.14052033 0.11026289 0.45215354]\n"
     ]
    }
   ],
   "source": [
    "'''random.rand(size_of_array) initializes an array of size size_of_array with elements of array equal to\n",
    "uniformly distributed random numbers whose values lies between 0 and 1\n",
    "\n",
    "random.randn gives normally distributed random numbers whose values\n",
    "lie between -Infinity to Infinity having 0 mean and 1 variance.'''\n",
    "\n",
    "x=np.random.rand(6)\n",
    "print(\"array x: \\n\",x,\"\\n\")\n",
    "y=np.random.randn(6)\n",
    "print(\"array y: \\n\",y)"
   ]
  },
  {
   "cell_type": "code",
   "execution_count": 70,
   "id": "3700dfb8",
   "metadata": {},
   "outputs": [
    {
     "name": "stdout",
     "output_type": "stream",
     "text": [
      "mean of array y is:  0.9728439379274777\n",
      "sum of array y is:  5.837063627564866\n",
      "minimum value from array y is:  0.11026288801279878\n",
      "maximum value from array y is:  2.14052033224548\n"
     ]
    }
   ],
   "source": [
    "'''np.mean(arr) returns the mean of all the elements of the array arr\n",
    "   np.sum(arr) returns the sum of all the elements of the array arr\n",
    "   np.min(arr) returns the minimum value from all elements in arr\n",
    "   np.max(arr) returns the maximum value from all elements in arr'''\n",
    "\n",
    "avg=np.mean(y)\n",
    "sum_of_array=np.sum(y)\n",
    "min_value=np.min(y)\n",
    "max_value=np.max(y)\n",
    "print(\"mean of array y is: \",avg)\n",
    "print(\"sum of array y is: \",sum_of_array)\n",
    "print(\"minimum value from array y is: \",min_value)\n",
    "print(\"maximum value from array y is: \",max_value)"
   ]
  },
  {
   "cell_type": "code",
   "execution_count": 71,
   "id": "e9a55da5",
   "metadata": {
    "scrolled": false
   },
   "outputs": [
    {
     "name": "stdout",
     "output_type": "stream",
     "text": [
      "array x1: \n",
      " [[0.7141191  0.26570303]\n",
      " [0.13355497 0.41168068]\n",
      " [0.05936861 0.45872339]] \n",
      "\n",
      "array y1: \n",
      " [[2.02860824 0.75115576 0.35436286]\n",
      " [2.14052033 0.11026289 0.45215354]] \n",
      "\n"
     ]
    }
   ],
   "source": [
    "'''np.reshape() gives new shape to an array without changing its data'''\n",
    "\n",
    "x1=x.reshape((3, 2))\n",
    "y1=y.reshape((2, 3))\n",
    "print(\"array x1: \\n\",x1,\"\\n\")\n",
    "print(\"array y1: \\n\",y1,\"\\n\")"
   ]
  },
  {
   "cell_type": "code",
   "execution_count": 72,
   "id": "e1b64dad",
   "metadata": {},
   "outputs": [
    {
     "name": "stdout",
     "output_type": "stream",
     "text": [
      "shape before reshaping:  (6,)\n",
      "shape after reshaping:  (3, 2)\n"
     ]
    }
   ],
   "source": [
    "'''As we can see, shape of x changed from (6,) to (3,2)'''\n",
    "\n",
    "print(\"shape before reshaping: \",x.shape)\n",
    "print(\"shape after reshaping: \",x1.shape)"
   ]
  },
  {
   "cell_type": "code",
   "execution_count": 73,
   "id": "aa477e54",
   "metadata": {},
   "outputs": [
    {
     "name": "stdout",
     "output_type": "stream",
     "text": [
      "array z: \n",
      " [0.7141191  0.26570303 0.13355497 0.41168068 0.05936861 0.45872339\n",
      " 2.02860824 0.75115576 0.35436286 2.14052033 0.11026289 0.45215354]\n"
     ]
    }
   ],
   "source": [
    "'''np.concatenate() joins a sequence of arrays'''\n",
    "\n",
    "z=np.concatenate((x,y))\n",
    "print(\"array z: \\n\",z)"
   ]
  },
  {
   "cell_type": "code",
   "execution_count": 74,
   "id": "bf8381c1",
   "metadata": {},
   "outputs": [
    {
     "name": "stdout",
     "output_type": "stream",
     "text": [
      "index of max element when array is flattened: 0\n",
      "index of max element per column:  [0 2]\n",
      "index of max element per row:  [0 1 1]\n"
     ]
    }
   ],
   "source": [
    "'''np.argmax(arr,axis=n) Returns the indice of the maximum value in arr\n",
    "   if axis is not specified, index is into the flattened array\n",
    "   if axis=0, it searches along rows for max element\n",
    "   if axis=0, it searches along columns for max element'''\n",
    "\n",
    "arg1=np.argmax(x1)\n",
    "arg2=np.argmax(x1,axis=0)\n",
    "arg3=np.argmax(x1,axis=1)\n",
    "print(\"index of max element when array is flattened:\",arg1)\n",
    "print(\"index of max element per column: \",arg2)\n",
    "print(\"index of max element per row: \",arg3)"
   ]
  },
  {
   "cell_type": "code",
   "execution_count": 75,
   "id": "8e41b447",
   "metadata": {},
   "outputs": [
    {
     "name": "stdout",
     "output_type": "stream",
     "text": [
      "dot product of x and y: 2.7907495960959174\n"
     ]
    }
   ],
   "source": [
    "'''np.dot() function returns the dot product of 2 arrays.\n",
    "In this case when both x and y are 1d Arrays, it returns the inner product of the the arrays'''\n",
    "\n",
    "print(\"dot product of x and y:\",np.dot(x,y))"
   ]
  },
  {
   "cell_type": "code",
   "execution_count": 76,
   "id": "6c1df593",
   "metadata": {},
   "outputs": [
    {
     "name": "stdout",
     "output_type": "stream",
     "text": [
      "matrix multiplication of x1 and y1:\n",
      " [[2.01741063 0.56571186 0.37319585]\n",
      " [1.15214158 0.14571369 0.2334698 ]\n",
      " [1.10234241 0.09517524 0.22845144]]\n"
     ]
    }
   ],
   "source": [
    "'''In the below case when x1 is a 3*2 array and y1 is a 2*3 array, np.dot will return the result\n",
    "which we get on matrix multiplication of x1 and y1,which is a 3*3 array'''\n",
    "\n",
    "print(\"matrix multiplication of x1 and y1:\\n\",np.dot(x1,y1))"
   ]
  }
 ],
 "metadata": {
  "kernelspec": {
   "display_name": "Python 3 (ipykernel)",
   "language": "python",
   "name": "python3"
  },
  "language_info": {
   "codemirror_mode": {
    "name": "ipython",
    "version": 3
   },
   "file_extension": ".py",
   "mimetype": "text/x-python",
   "name": "python",
   "nbconvert_exporter": "python",
   "pygments_lexer": "ipython3",
   "version": "3.11.5"
  }
 },
 "nbformat": 4,
 "nbformat_minor": 5
}
